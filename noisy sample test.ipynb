{
 "cells": [
  {
   "cell_type": "code",
   "execution_count": null,
   "metadata": {},
   "outputs": [],
   "source": [
    "import pandas as pd\n",
    "%matplotlib inline\n",
    "import matplotlib.pyplot as plt\n",
    "import numpy as np\n",
    "import math as m\n",
    "\n"
   ]
  },
  {
   "cell_type": "code",
   "execution_count": null,
   "metadata": {},
   "outputs": [],
   "source": [
    "df_test = pd.read_csv('5297Q_2010-14.txt',\n",
    "                      usecols =[\"DATUM\",\"MESSWERT_NUM\"] ,\n",
    "                      index_col=0, \n",
    "                      parse_dates=True, \n",
    "                      infer_datetime_format=True,\n",
    "                      dayfirst=True,\n",
    "                      decimal='.',\n",
    "                      sep=\",\")"
   ]
  },
  {
   "cell_type": "code",
   "execution_count": null,
   "metadata": {},
   "outputs": [],
   "source": [
    "df_test"
   ]
  },
  {
   "cell_type": "code",
   "execution_count": null,
   "metadata": {},
   "outputs": [],
   "source": [
    "X = np.array(df_test.index.values - df_test.index.values.min() , dtype=(float)) / (1e9 * 60 * 60 * 24)\n",
    "\n",
    "df_test = df_test.assign(X =X[:])\n",
    "noise_mean = 0\n",
    "noise_std = 0.2\n",
    "df_test[\"Y\"] = 0. \n",
    "df_test[\"noise\"] = np.random.randn(len(df_test)) * noise_std + noise_mean\n",
    "df_test[\"confidence95\"] = noise_std * 1.96\n",
    "df_test[\"measurement\"] = df_test[\"MESSWERT_NUM\"] + df_test[\"noise\"]\n",
    "\n",
    "P = np.array( df_test.dropna().reset_index()[['DATUM','Y','MESSWERT_NUM']] )"
   ]
  },
  {
   "cell_type": "code",
   "execution_count": null,
   "metadata": {},
   "outputs": [],
   "source": [
    "def test (data = df_test, n_sample=None):\n",
    "    df_z = data\n",
    "    if n_sample is not None:\n",
    "        df_z = data.sample(n_sample)\n",
    "    return df_z    "
   ]
  },
  {
   "cell_type": "code",
   "execution_count": null,
   "metadata": {},
   "outputs": [],
   "source": [
    "df_z = test(data=df_test, n_sample=25)\n",
    "plt.rcParams[\"figure.figsize\"] = (16, 12)\n",
    "plt.plot(df_z.X, df_z.measurement, '.', label='noisy sample', color = \"red\")\n",
    "plt.plot(df_test.X, df_test.MESSWERT_NUM, label=\"true value\")\n",
    "plt.errorbar(df_z.X, df_z.measurement, df_z.confidence95, fmt='.',\n",
    "             label='confidence intervall', color=\"grey\")\n",
    "\n",
    "plt.legend()\n",
    "df_z.to_excel(r\".\\example_data\\timeseries14.xlsx\")\n",
    "plt.show()"
   ]
  },
  {
   "cell_type": "code",
   "execution_count": null,
   "metadata": {},
   "outputs": [],
   "source": [
    "df_z"
   ]
  },
  {
   "cell_type": "code",
   "execution_count": null,
   "metadata": {},
   "outputs": [],
   "source": [
    "df_z = pd.read_excel(r\".\\example_data\\timeseries14.xlsx\")\n",
    "\n",
    "plt.plot(df_z.X, df_z.measurement, '.', label='noisy sample', color = \"red\")\n",
    "plt.plot(df_test.X, df_test.MESSWERT_NUM, label=\"true value\")\n",
    "plt.errorbar(df_z.X, df_z.measurement, df_z.confidence95, fmt='.',\n",
    "             label='confidence intervall', color=\"grey\")\n",
    "\n",
    "plt.legend()\n",
    "plt.show()"
   ]
  },
  {
   "cell_type": "code",
   "execution_count": null,
   "metadata": {},
   "outputs": [],
   "source": [
    "df_z"
   ]
  },
  {
   "cell_type": "code",
   "execution_count": null,
   "metadata": {},
   "outputs": [],
   "source": []
  },
  {
   "cell_type": "code",
   "execution_count": null,
   "metadata": {},
   "outputs": [],
   "source": []
  },
  {
   "cell_type": "code",
   "execution_count": null,
   "metadata": {},
   "outputs": [],
   "source": []
  }
 ],
 "metadata": {
  "anaconda-cloud": {},
  "hide_input": false,
  "kernelspec": {
   "display_name": "Python 3",
   "language": "python",
   "name": "python3"
  },
  "language_info": {
   "codemirror_mode": {
    "name": "ipython",
    "version": 3
   },
   "file_extension": ".py",
   "mimetype": "text/x-python",
   "name": "python",
   "nbconvert_exporter": "python",
   "pygments_lexer": "ipython3",
   "version": "3.7.3"
  },
  "varInspector": {
   "cols": {
    "lenName": 16,
    "lenType": 16,
    "lenVar": 40
   },
   "kernels_config": {
    "python": {
     "delete_cmd_postfix": "",
     "delete_cmd_prefix": "del ",
     "library": "var_list.py",
     "varRefreshCmd": "print(var_dic_list())"
    },
    "r": {
     "delete_cmd_postfix": ") ",
     "delete_cmd_prefix": "rm(",
     "library": "var_list.r",
     "varRefreshCmd": "cat(var_dic_list()) "
    }
   },
   "position": {
    "height": "249px",
    "left": "1550px",
    "right": "20px",
    "top": "120px",
    "width": "350px"
   },
   "types_to_exclude": [
    "module",
    "function",
    "builtin_function_or_method",
    "instance",
    "_Feature"
   ],
   "window_display": true
  }
 },
 "nbformat": 4,
 "nbformat_minor": 1
}
