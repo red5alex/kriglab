{
 "cells": [
  {
   "cell_type": "markdown",
   "metadata": {},
   "source": [
    "# Import Example Data Sets"
   ]
  },
  {
   "cell_type": "code",
   "execution_count": null,
   "metadata": {
    "hide_input": true
   },
   "outputs": [],
   "source": [
    "import sys\n",
    "import pandas as pd\n",
    "import numpy as np\n",
    "%matplotlib inline\n",
    "import matplotlib.pyplot as plt\n",
    "plt.rcParams['font.size'] = 12\n",
    "plt.rcParams['figure.figsize'] = [16 / 1.5, 10 / 1.5]   # inch / cm = 2.54\n",
    "plt.rcParams['savefig.dpi'] = 300\n",
    "plt.rcParams['savefig.bbox'] = 'tight'\n",
    "# plt.rcParams['savefig.frameon'] = False\n",
    "from math import *\n",
    "from scipy.spatial.distance import pdist, squareform"
   ]
  },
  {
   "cell_type": "markdown",
   "metadata": {},
   "source": [
    "The library **sampledata** provides a number of datasets as pandas dataframes. "
   ]
  },
  {
   "cell_type": "code",
   "execution_count": null,
   "metadata": {},
   "outputs": [],
   "source": [
    "import exampledata"
   ]
  },
  {
   "cell_type": "code",
   "execution_count": null,
   "metadata": {},
   "outputs": [],
   "source": [
    "from svmodels import SV, hole_New\n",
    "from correlation_models import cvmodel"
   ]
  },
  {
   "cell_type": "code",
   "execution_count": null,
   "metadata": {},
   "outputs": [],
   "source": [
    "%load_ext autoreload\n",
    "%autoreload 2"
   ]
  },
  {
   "cell_type": "code",
   "execution_count": null,
   "metadata": {},
   "outputs": [],
   "source": [
    "NOISE = 0"
   ]
  },
  {
   "cell_type": "markdown",
   "metadata": {},
   "source": [
    "## Periodic Sine Curves with Noise\n",
    "\n",
    "sine_data() provides a sine curve with given period and amplitude, distorted with random noise (with given distribution). \n",
    "\n",
    "We get two dataframes - a complete one to plot the true population, and 25 random samples representing noisy measurements:"
   ]
  },
  {
   "cell_type": "code",
   "execution_count": null,
   "metadata": {},
   "outputs": [],
   "source": [
    "df_all = exampledata.sine_data()\n",
    "df_z = exampledata.sine_data(n_sample=25, noise_std = 1)\n",
    "\n",
    "plt.plot(df_z.x, df_z.measurement, '.', label='noisy sample', color = \"red\")\n",
    "plt.plot(df_all.x, df_all.truez, label=\"true value\")\n",
    "plt.errorbar(df_z.x, df_z.measurement, df_z.confidence95, fmt='.',\n",
    "             label='confidence intervall', color=\"grey\")\n",
    "\n",
    "plt.legend()\n",
    "plt.show()"
   ]
  },
  {
   "cell_type": "markdown",
   "metadata": {},
   "source": [
    "a number of parameters can be used to obtain different datasets, see below (here, the sample is taken afterwards for better code readability)."
   ]
  },
  {
   "cell_type": "code",
   "execution_count": null,
   "metadata": {
    "scrolled": false
   },
   "outputs": [],
   "source": [
    "df_all = exampledata.sine_data(start = 0,  stop = 800,  # intervall for predictor\n",
    "              resolution = 500,   # number of samples to create in interval\n",
    "              period = 365, amplitude = 10,  # shape of sine curve \n",
    "              noise_type=\"gaussian\",   # type of noise\n",
    "              noise_mean = 0,  # mean of noise\n",
    "              noise_std = NOISE,\n",
    "              true_mean=150)  # standard deviation of noise\n",
    "df_z = df_all.sample(50)\n",
    "\n",
    "plt.plot(df_z.x, df_z.measurement, '.', label='noisy sample', color = \"red\")\n",
    "plt.plot(df_all.x, df_all.truez, label=\"true value\")\n",
    "plt.errorbar(df_z.x, df_z.measurement, df_z.confidence95, fmt='.',\n",
    "             label='confidence intervall', color=\"grey\")\n",
    "\n",
    "df_z.to_excel(r\".\\example_data\\Periodic Sine\\example_5.xlsx\")\n",
    "\n",
    "plt.legend()\n",
    "plt.show()"
   ]
  },
  {
   "cell_type": "code",
   "execution_count": null,
   "metadata": {},
   "outputs": [],
   "source": [
    "df_z"
   ]
  },
  {
   "cell_type": "markdown",
   "metadata": {},
   "source": [
    "## Storing and Modifying Data\n",
    "\n",
    "The dataframe can be saved (see cell above), and later be loaded again.\n",
    "The following table ist a concanenated dataset for Example 2, with measurements of different confidence intervals."
   ]
  },
  {
   "cell_type": "code",
   "execution_count": null,
   "metadata": {},
   "outputs": [],
   "source": [
    "P = np.array(df_z.dropna()[['x','y','truez']])\n",
    "P"
   ]
  },
  {
   "cell_type": "code",
   "execution_count": null,
   "metadata": {},
   "outputs": [],
   "source": [
    "# bandwidth, plus or minus bw meters\n",
    "bw = 20\n",
    "# lags in 25 days increments from zero to 2000\n",
    "hs = np.arange(0, 4000, bw)\n",
    "sv = SV( P, hs, bw )\n",
    "plt.plot( sv[0], sv[1], '.-' )\n",
    "#plt.errorbar(df_z.x, df_z.truez, df_z.noise, fmt='.',\n",
    "             #label='confidence intervall', color=\"grey\")\n",
    "plt.xlabel('Lag [m]')\n",
    "plt.ylabel('Semivariance')\n",
    "plt.title('Sample Semivariogram') ;\n",
    "#savefig('sample_semivariogram.png',fmt='png',dpi=200)"
   ]
  },
  {
   "cell_type": "code",
   "execution_count": null,
   "metadata": {},
   "outputs": [],
   "source": [
    "import svmodels"
   ]
  },
  {
   "cell_type": "code",
   "execution_count": null,
   "metadata": {},
   "outputs": [],
   "source": [
    "\n",
    "def hole_N (h, C0, a, Cn=0):\n",
    "    #from Triki et al. p.1600 (Dowdall et al. 2003)\n",
    "    if type(h) == np.float64:\n",
    "        # calculate the hole function\n",
    "        if h == 0:\n",
    "            return Cn\n",
    "        if h <= pi*2*a: \n",
    "            return (Cn+(C0-Cn)*(1-(sin(h/a ))/(h/a) ))\n",
    "        if pi*2*a < h <= pi*4*a:\n",
    "            return (Cn+(C0-Cn)*(1-(sin(h/a ))/(0.6*h/a) ))\n",
    "        if h > pi*4*a:\n",
    "            return (Cn+(C0-Cn)*(1-(sin(h/a ))/(0.4*h/a) ))\n",
    "    # if h is an iterable\n",
    "    else:\n",
    "        # calcualte the hole function for all elements\n",
    "        a = np.ones( h.size ) * a\n",
    "        C0 = np.ones( h.size ) * C0\n",
    "        Cn = np.ones(h.size) * Cn\n",
    "        return map( hole_N, h, a, C0, Cn )"
   ]
  },
  {
   "cell_type": "code",
   "execution_count": null,
   "metadata": {},
   "outputs": [],
   "source": [
    "def cosine (h, a, C0, Cn=0, wavelength=365.24):\n",
    "    \n",
    "    assert wavelength is not None, \"wavelength must be specified\"\n",
    "    \n",
    "    if type(h) == np.float64:\n",
    "        if h >= 0:\n",
    "            return Cn+C0-(C0-Cn)*(exp(-(3*h)/a)*cos((2*pi/wavelength)*h))\n",
    "    else:\n",
    "        print(a)\n",
    "        a = np.ones( h.size ) * a\n",
    "        C0 = np.ones( h.size ) * C0\n",
    "        Cn = np.ones(h.size) * Cn\n",
    "        wavelength = np.ones(h.size) * wavelength\n",
    "        \n",
    "        return map(cosine, h, a, C0, Cn, wavelength)"
   ]
  },
  {
   "cell_type": "code",
   "execution_count": null,
   "metadata": {},
   "outputs": [],
   "source": [
    "def sine (h, a, C0, Cn=0, wavelength=None):\n",
    "    if type (h) == np.float64:\n",
    "        if h <=365.24/pi:\n",
    "            return (1.0-sin(h/a))\n",
    "        else:\n",
    "            return  Cn+(C0-Cn)*(1.0-sin(h/a))     \n",
    "    \n",
    "    else:\n",
    "        a = np.ones( h.size ) * a\n",
    "        C0 = np.ones( h.size ) * C0\n",
    "        Cn = np.ones(h.size) * Cn\n",
    "        return map(sine, h, a, C0, Cn )        "
   ]
  },
  {
   "cell_type": "code",
   "execution_count": null,
   "metadata": {},
   "outputs": [],
   "source": [
    "365/(2*pi)"
   ]
  },
  {
   "cell_type": "code",
   "execution_count": null,
   "metadata": {},
   "outputs": [],
   "source": [
    "\n",
    "varmodel = cosine\n",
    "C0=60.0\n",
    "sp = cvmodel( P, model=varmodel, hs=np.arange(0,4000,20), bw=bw,  Cn=10, svrange=10000, C0=C0)\n",
    "#C0 = C( P, hs[0], bw )\n",
    "\n",
    "plt.plot( sv[0], sv[1], '.-' )\n",
    "plt.plot( sv[0], C0 - sp( sv[0] ) ) ;\n",
    "plt.title('Sine Hole-effect Model')\n",
    "plt.ylabel('Semivariance')\n",
    "plt.xlabel('Lag [m]')\n",
    "#plt.savefig('Valid_Svmodel_hole_New50.png',fmt='png',dpi=300)"
   ]
  },
  {
   "cell_type": "code",
   "execution_count": null,
   "metadata": {},
   "outputs": [],
   "source": [
    "def krige( P, covfct, u, N ):\n",
    "    '''\n",
    "    Input  (P)     ndarray, data\n",
    "           (covfct) modeling function\n",
    "                    - spherical\n",
    "                    - exponential\n",
    "                    - gaussian\n",
    "           (u)     unsampled point\n",
    "           (N)     number of neighboring\n",
    "                   points to consider\n",
    "    '''\n",
    "\n",
    "    assert N < len(P) + 1, \"Number of Neighbors greater than number of data points\"\n",
    "\n",
    "    # mean of the variable\n",
    "    mu = np.mean( P[:,2] )\n",
    " \n",
    "    # distance between u and each data point in P\n",
    "    d = np.sqrt( ( P[:,0]-u[0] )**2.0 + ( P[:,1]-u[1] )**2.0 )\n",
    "    # add these distances to P\n",
    "    P = np.vstack(( P.T, d )).T\n",
    "    # sort P by these distances\n",
    "    # take the first N of them\n",
    "    P = P[d.argsort()[:N]]\n",
    " \n",
    "    # apply the covariance model to the distances\n",
    "    k = covfct( P[:,3] )\n",
    "    # cast as a matrix\n",
    "    k = np.matrix( k ).T\n",
    " \n",
    "    # form a matrix of distances between existing data points\n",
    "    K = squareform( pdist( P[:,:2] ) )\n",
    "    # apply the covariance model to these distances\n",
    "    K = covfct( K.ravel() )\n",
    "    # re-cast as a NumPy array -- thanks M.L.\n",
    "    K = np.array( K )\n",
    "    # reshape into an array\n",
    "    K = K.reshape(N,N)\n",
    "    # cast as a matrix\n",
    "    K = np.matrix( K )\n",
    "    K = np.identity(N)*(2*NOISE)**2+K  # Variance (2 times std (+/-) squared of sample set) is added as identity matrix \n",
    " \n",
    "    # calculate the kriging weights\n",
    "    weights = np.linalg.inv( K ) * k\n",
    "    weights = np.array( weights )\n",
    " \n",
    "    # calculate the residuals\n",
    "    residuals = P[:,2] - mu\n",
    " \n",
    "    # calculate the estimation\n",
    "    estimation = np.dot( weights.T, residuals ) + mu\n",
    " \n",
    "    return (float( estimation ), k, K, weights)"
   ]
  },
  {
   "cell_type": "code",
   "execution_count": null,
   "metadata": {},
   "outputs": [],
   "source": [
    "#np.sqrt(1.3823)\n",
    "#1.175712/2\n"
   ]
  },
  {
   "cell_type": "code",
   "execution_count": null,
   "metadata": {},
   "outputs": [],
   "source": [
    "# sampling intervall:\n",
    "X0, X1 = 0., 1600.\n",
    "\n",
    "# number of samples\n",
    "n =2000\n",
    "dx = (X1-X0)/n\n",
    "print(\"Sampling resolution: {:.2f} days\".format(dx))\n",
    "\n",
    "# number of neighbors:\n",
    "nn = 25\n",
    "u = (400, 0)  # (x,y) - coordinates of unsampled points\n"
   ]
  },
  {
   "cell_type": "code",
   "execution_count": null,
   "metadata": {},
   "outputs": [],
   "source": [
    "Z = np.zeros(n)\n",
    "V = np.zeros(n)\n",
    "for i in range(n):\n",
    "\n",
    "    h, k, K, weights = krige( P, sp, (dx*i, 0), nn )\n",
    "    Z[i] = h\n",
    "    #plt.plot (Z)\n",
    "    #plt.show()\n",
    "    v = C0 - np.dot(k.T, weights)\n",
    "    V[i] = max (v, 0)"
   ]
  },
  {
   "cell_type": "code",
   "execution_count": null,
   "metadata": {},
   "outputs": [],
   "source": [
    "plt.rcParams[\"figure.figsize\"] = (16, 12)\n",
    "plt.fill_between([i*dx for i in range(n)], Z-3*np.sqrt(V), Z+3*np.sqrt(V), color='green', alpha=0.1, label=\"+/- 3 stdev\")\n",
    "plt.fill_between([i*dx for i in range(n)], Z-2*np.sqrt(V), Z+2*np.sqrt(V), color='green', alpha=0.2, label=\"+/- 2 stdev\")\n",
    "plt.fill_between([i*dx for i in range(n)], Z-1*np.sqrt(V), Z+1*np.sqrt(V), color='green', alpha=0.3, label=\"+/- 1 stdev\")\n",
    "plt.plot([i*dx for i in range(n)], Z, \"g-\", label=\"estimator\")\n",
    "plt.plot(df_all.x, df_all.truez, label=\"true value\")\n",
    "\n",
    "plt.plot(df_z.x, df_z.measurement, '.', label='noisy sample', color = \"red\")\n",
    "plt.plot(df_all.x, df_all.truez, label=\"true value\")\n",
    "plt.errorbar(df_z.x, df_z.measurement, df_z.confidence95, fmt='.',\n",
    "             label='confidence intervall', color=\"grey\")\n",
    "\n",
    "\n",
    "plt.legend(loc='upper right')\n",
    "plt.ylabel('Water Level [m]')\n",
    "plt.xlabel('Time [d]')\n",
    "\n",
    "x1,x2,y1,y2 = plt.axis()\n",
    "\n",
    "plt.axis((x1,x2,120, 200))\n",
    "\n",
    "#plt.axis((260, 280 ,140, 141))\n",
    "#plt.savefig(\"Valid_result_hole_New50P.png\")\n",
    "plt.show()"
   ]
  },
  {
   "cell_type": "code",
   "execution_count": null,
   "metadata": {},
   "outputs": [],
   "source": [
    "plt.plot([i*dx for i in range(n)], np.sqrt(V), \"g--\", label=\"stev\")\n",
    "#plt.plot((X0, X1),(np.sqrt(V).min(), np.sqrt(V).min()), \"r-\", label=\"size of confidence from global Sill\")\n",
    "plt.plot((X0, X1),(np.sqrt(V).min(), np.sqrt(V).min()), \"r-\", label=\"minimum\")\n",
    "plt.legend(loc='upper left')\n",
    "#plt.scatter(df_Qts.X, (df_Qts.MESSWERT_NUM-448)*30, c=\"r\", label=\"sample\", s=3)\n",
    "\n",
    "#plt.scatter(df_Qts.X, np.ones_like(df_Qts.X), c=\"r\", label=\"sample\", s=3)\n",
    "\n",
    "plt.ylabel('StdDev [m]')\n",
    "plt.xlabel('Time [d]')\n",
    "#plt.axis((-1,10,0, 25))\n",
    "#plt.savefig(\"result_hole_N_model_highAmplitude_95%interval40nn.png\")\n",
    "\n",
    "plt.scatter(df_z.x,np.ones(len(df_z))*np.sqrt(V).min(), s=3)\n",
    "\n",
    "_ = plt.show()\n",
    "\n",
    "print(np.sqrt(V).min())"
   ]
  },
  {
   "cell_type": "code",
   "execution_count": null,
   "metadata": {},
   "outputs": [],
   "source": [
    "V.min()"
   ]
  },
  {
   "cell_type": "code",
   "execution_count": null,
   "metadata": {
    "scrolled": true
   },
   "outputs": [],
   "source": [
    "Vs = []\n",
    "for i in range(len(df_z)):\n",
    "    try:\n",
    "        h, k, K, weights = krige( P, sp, (df_z.iloc[i].x, 0), nn )  \n",
    "    except ValueError as e:\n",
    "        print(e.message)\n",
    "    v = C0 - np.dot(k.T, weights)\n",
    "    v = max(v, 0)\n",
    "    Vs.append(sqrt(v))"
   ]
  },
  {
   "cell_type": "code",
   "execution_count": null,
   "metadata": {},
   "outputs": [],
   "source": [
    "plt.scatter(range(len(Vs)),Vs)"
   ]
  },
  {
   "cell_type": "code",
   "execution_count": null,
   "metadata": {},
   "outputs": [],
   "source": []
  }
 ],
 "metadata": {
  "anaconda-cloud": {},
  "hide_input": false,
  "kernelspec": {
   "display_name": "Python 3",
   "language": "python",
   "name": "python3"
  },
  "language_info": {
   "codemirror_mode": {
    "name": "ipython",
    "version": 3
   },
   "file_extension": ".py",
   "mimetype": "text/x-python",
   "name": "python",
   "nbconvert_exporter": "python",
   "pygments_lexer": "ipython3",
   "version": "3.7.3"
  },
  "toc": {
   "nav_menu": {},
   "number_sections": true,
   "sideBar": true,
   "skip_h1_title": false,
   "toc_cell": false,
   "toc_position": {},
   "toc_section_display": "block",
   "toc_window_display": false
  },
  "varInspector": {
   "cols": {
    "lenName": 16,
    "lenType": 16,
    "lenVar": 40
   },
   "kernels_config": {
    "python": {
     "delete_cmd_postfix": "",
     "delete_cmd_prefix": "del ",
     "library": "var_list.py",
     "varRefreshCmd": "print(var_dic_list())"
    },
    "r": {
     "delete_cmd_postfix": ") ",
     "delete_cmd_prefix": "rm(",
     "library": "var_list.r",
     "varRefreshCmd": "cat(var_dic_list()) "
    }
   },
   "position": {
    "height": "374px",
    "left": "1513px",
    "right": "20px",
    "top": "108px",
    "width": "350px"
   },
   "types_to_exclude": [
    "module",
    "function",
    "builtin_function_or_method",
    "instance",
    "_Feature"
   ],
   "window_display": true
  }
 },
 "nbformat": 4,
 "nbformat_minor": 2
}
