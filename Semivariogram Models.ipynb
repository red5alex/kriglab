{
 "cells": [
  {
   "cell_type": "markdown",
   "metadata": {},
   "source": [
    "# Semivariogram Models\n",
    "\n",
    "Example code for using the module [svmodels.py](svmodels.py) to model semivariance. This simple library provides some standard and non-standard variogram functions, and some supporting scripts to handle experimental data."
   ]
  },
  {
   "cell_type": "code",
   "execution_count": null,
   "metadata": {
    "ExecuteTime": {
     "end_time": "2018-02-20T21:37:40.868000Z",
     "start_time": "2018-02-20T21:37:40.678000Z"
    }
   },
   "outputs": [],
   "source": [
    "import svmodels"
   ]
  },
  {
   "cell_type": "code",
   "execution_count": null,
   "metadata": {
    "ExecuteTime": {
     "end_time": "2018-02-20T21:37:41.511000Z",
     "start_time": "2018-02-20T21:37:40.872000Z"
    }
   },
   "outputs": [],
   "source": [
    "import numpy as np\n",
    "import pandas as pd\n",
    "\n",
    "%matplotlib inline\n",
    "import matplotlib.pyplot as plt\n",
    "plt.rcParams['font.size'] = 12\n",
    "plt.rcParams['figure.figsize'] = [16 / 1.5, 10 / 1.5]   # inch / cm = 2.54\n",
    "plt.rcParams['savefig.dpi'] = 300\n",
    "plt.rcParams['savefig.bbox'] = 'tight'"
   ]
  },
  {
   "cell_type": "markdown",
   "metadata": {},
   "source": [
    "##  Empirical Semivariogram\n",
    "\n",
    "The function <code>svmodels.get_empirical_semivariogram</code> creates an emprical semivariogram from X,Y coordinates and Z-Values (array-like)."
   ]
  },
  {
   "cell_type": "code",
   "execution_count": null,
   "metadata": {
    "ExecuteTime": {
     "end_time": "2018-02-20T21:37:42.398000Z",
     "start_time": "2018-02-20T21:37:41.514000Z"
    },
    "scrolled": false
   },
   "outputs": [],
   "source": [
    "# example data with X,Y,Z\n",
    "df = pd.read_excel(\"variogram_exampledata.xlsx\")  \n",
    "\n",
    "# create the semivariogram\n",
    "exp_sv = svmodels.get_empirical_semivariogram(df.X, df.Y, df.Z,\n",
    "                                    max_distance=15000,\n",
    "                                    bandwidth=500)\n",
    "\n",
    "# plot the result\n",
    "plt.plot(exp_sv[0], exp_sv[1], '.', label=\"empirical semivariogram\")\n",
    "plt.title('empirical variogram')\n",
    "plt.ylabel('Semivariance')\n",
    "plt.xlabel('lag')\n",
    "_ = plt.plot()"
   ]
  },
  {
   "cell_type": "markdown",
   "metadata": {},
   "source": [
    "## Semivariogram Models\n",
    "\n",
    "### Standard Models\n",
    "\n",
    "A number of functions for modelling empirical variograms are provided through the module. \n",
    "The first argument is the lag distance $X$, which can be provided as a scalar or a vector.\n",
    "For standard models, the range, sill and optionally the Nugget are provided."
   ]
  },
  {
   "cell_type": "code",
   "execution_count": null,
   "metadata": {
    "ExecuteTime": {
     "end_time": "2018-02-20T21:37:42.418000Z",
     "start_time": "2018-02-20T21:37:42.401000Z"
    }
   },
   "outputs": [],
   "source": [
    "svrange=14000\n",
    "svsill=0.8\n",
    "svnugget=0.05\n",
    "\n",
    "# example for scalar input:\n",
    "print(\"SV_Gaussian({}) = {}\".format(100, svmodels.gaussian(100, svrange, svsill)))"
   ]
  },
  {
   "cell_type": "code",
   "execution_count": null,
   "metadata": {
    "ExecuteTime": {
     "end_time": "2018-02-20T21:37:42.678000Z",
     "start_time": "2018-02-20T21:37:42.422000Z"
    }
   },
   "outputs": [],
   "source": [
    "# example for vector input\n",
    "\n",
    "plt.plot(exp_sv[0], exp_sv[1], '.', label=\"empirical semivariogram\")\n",
    "\n",
    "X = np.linspace(0, 20000, 100)\n",
    "\n",
    "Y = svmodels.gaussian(X, svrange, svsill, svnugget)  \n",
    "plt.plot(X, Y, label=\"gaussian\")\n",
    "\n",
    "Y = svmodels.exponential(X, svrange, svsill, svnugget)  \n",
    "plt.plot(X, Y, label=\"exponential\")\n",
    "\n",
    "Y = svmodels.spherical(X, svrange, svsill, svnugget)  \n",
    "plt.plot(X, Y, label=\"spherical\")\n",
    "\n",
    "plt.plot((0, svrange, svrange),(svsill, svsill, 0), \":\", c=\"grey\")\n",
    "plt.plot((0, 4000),(svnugget, svnugget), \":\", c=\"grey\")\n",
    "\n",
    "plt.text(0,svsill+0.02,\"sill= {:}\".format(svsill),color=\"grey\")\n",
    "plt.text(svrange,0,\"range= {:}\".format(svrange), rotation=270, verticalalignment='bottom',color=\"grey\")\n",
    "plt.text(0,svnugget-0.04,\"nugget= {:}\".format(svnugget),color=\"grey\")\n",
    "\n",
    "\n",
    "\n",
    "plt.legend()\n",
    "plt.title('Semivariogram Standard Models')\n",
    "plt.ylabel('Semivariance')\n",
    "plt.xlabel('lag')\n",
    "\n",
    "_ = plt.show()"
   ]
  },
  {
   "cell_type": "markdown",
   "metadata": {
    "ExecuteTime": {
     "end_time": "2018-02-20T19:28:05.776000Z",
     "start_time": "2018-02-20T19:28:05.768000Z"
    }
   },
   "source": [
    "### Periodic Semivariogram Functions\n",
    "A number of non-standard functions are provided through the [svmodels.py](svmodels.py) module."
   ]
  },
  {
   "cell_type": "markdown",
   "metadata": {},
   "source": [
    "#### Hole-Effect Model\n",
    "Useful for 1D interpolation."
   ]
  },
  {
   "cell_type": "code",
   "execution_count": null,
   "metadata": {
    "ExecuteTime": {
     "end_time": "2018-02-20T21:37:42.860000Z",
     "start_time": "2018-02-20T21:37:42.681000Z"
    }
   },
   "outputs": [],
   "source": [
    "X = np.linspace(0,4000,100)\n",
    "Y = list(svmodels.hole(X, 200, 1, 0.0))\n",
    "plt.title('hole-effect model for 1D Kriging')\n",
    "plt.ylabel('Semivariance')\n",
    "plt.xlabel('lag')\n",
    "plt.plot(X,Y, label=\"semivariogram\")\n",
    "plt.plot((0),(0))\n",
    "plt.legend()\n",
    "_ = plt.show()"
   ]
  },
  {
   "cell_type": "markdown",
   "metadata": {
    "ExecuteTime": {
     "end_time": "2018-02-20T19:34:47.388000Z",
     "start_time": "2018-02-20T19:34:47.376000Z"
    }
   },
   "source": [
    "#### Hole-Effect Model (2)\n",
    "(Triki et al. p.1600 / Dowdall et al. 2003)"
   ]
  },
  {
   "cell_type": "code",
   "execution_count": null,
   "metadata": {
    "ExecuteTime": {
     "end_time": "2018-02-20T21:37:43.264000Z",
     "start_time": "2018-02-20T21:37:43.059000Z"
    },
    "scrolled": false
   },
   "outputs": [],
   "source": [
    "X = np.linspace(0,4000,100)\n",
    "Y = list(svmodels.hole_N(X, 200, 1, 0.0))\n",
    "plt.plot(X,Y)\n",
    "plt.plot((0),(0))\n",
    "\n",
    "plt.title('hole-effect model')\n",
    "plt.ylabel('Semivariance')\n",
    "plt.xlabel('lag')\n",
    "plt.plot(X,Y)\n",
    "plt.plot((0),(0))\n",
    "_ = plt.show()"
   ]
  },
  {
   "cell_type": "markdown",
   "metadata": {
    "ExecuteTime": {
     "end_time": "2018-02-20T19:11:33.589000Z",
     "start_time": "2018-02-20T19:11:33.581000Z"
    }
   },
   "source": [
    "## Business Functions\n",
    "### Instantiating Functions (freezing curve parameters)\n",
    "\n",
    "The <code>instance_of()</code> function returns an instance of that semivariogram model with all parameters fixed. This is simply to allow for easier usage of that function in later coding.\n",
    "This function is provided for convenience and is identical to using a lambda function\n",
    "\n",
    "```python\n",
    "mysvsmodel = lambda h, a=a, C0=C0: model( h )\n",
    "```"
   ]
  },
  {
   "cell_type": "code",
   "execution_count": null,
   "metadata": {
    "ExecuteTime": {
     "end_time": "2018-02-20T21:37:43.975000Z",
     "start_time": "2018-02-20T21:37:43.583000Z"
    },
    "scrolled": false
   },
   "outputs": [],
   "source": [
    "mysvmodel = svmodels.instance_of(svmodels.gaussian, a=svrange, C0=svsill, Cn=svnugget)\n",
    "print(\"mysvmodel({}) = {}\".format(100, mysvmodel(100)))\n",
    "\n",
    "plt.title('Instance of Semivariogram Model')\n",
    "plt.plot(exp_sv[0], exp_sv[1], '.', label=\"empirical semivariogram\")\n",
    "plt.plot(range(20000), mysvmodel(np.array(range(20000))), label=\"mysvmodel\")\n",
    "plt.ylabel('Semivariance')\n",
    "plt.xlabel('lag')\n",
    "plt.legend()\n",
    "_ = plt.show()"
   ]
  },
  {
   "cell_type": "code",
   "execution_count": null,
   "metadata": {},
   "outputs": [],
   "source": []
  }
 ],
 "metadata": {
  "anaconda-cloud": {},
  "hide_input": false,
  "kernelspec": {
   "display_name": "Python 3",
   "language": "python",
   "name": "python3"
  },
  "language_info": {
   "codemirror_mode": {
    "name": "ipython",
    "version": 3
   },
   "file_extension": ".py",
   "mimetype": "text/x-python",
   "name": "python",
   "nbconvert_exporter": "python",
   "pygments_lexer": "ipython3",
   "version": "3.7.3"
  },
  "toc": {
   "nav_menu": {},
   "number_sections": true,
   "sideBar": true,
   "skip_h1_title": true,
   "toc_cell": false,
   "toc_position": {},
   "toc_section_display": "block",
   "toc_window_display": false
  },
  "varInspector": {
   "cols": {
    "lenName": 16,
    "lenType": 16,
    "lenVar": 40
   },
   "kernels_config": {
    "python": {
     "delete_cmd_postfix": "",
     "delete_cmd_prefix": "del ",
     "library": "var_list.py",
     "varRefreshCmd": "print(var_dic_list())"
    },
    "r": {
     "delete_cmd_postfix": ") ",
     "delete_cmd_prefix": "rm(",
     "library": "var_list.r",
     "varRefreshCmd": "cat(var_dic_list()) "
    }
   },
   "types_to_exclude": [
    "module",
    "function",
    "builtin_function_or_method",
    "instance",
    "_Feature"
   ],
   "window_display": false
  }
 },
 "nbformat": 4,
 "nbformat_minor": 1
}
