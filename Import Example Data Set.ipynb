{
 "cells": [
  {
   "cell_type": "markdown",
   "metadata": {},
   "source": [
    "# Import Example Data Sets"
   ]
  },
  {
   "cell_type": "code",
   "execution_count": null,
   "metadata": {
    "hide_input": true
   },
   "outputs": [],
   "source": [
    "import sys\n",
    "import pandas as pd\n",
    "import numpy as np\n",
    "%matplotlib inline\n",
    "import matplotlib.pyplot as plt\n",
    "plt.rcParams['font.size'] = 12\n",
    "plt.rcParams['figure.figsize'] = [16 / 1.5, 10 / 1.5]   # inch / cm = 2.54\n",
    "plt.rcParams['savefig.dpi'] = 300\n",
    "plt.rcParams['savefig.bbox'] = 'tight'\n",
    "# plt.rcParams['savefig.frameon'] = False\n",
    "from math import *"
   ]
  },
  {
   "cell_type": "markdown",
   "metadata": {},
   "source": [
    "The library **sampledata** provides a number of datasets as pandas dataframes. "
   ]
  },
  {
   "cell_type": "code",
   "execution_count": null,
   "metadata": {},
   "outputs": [],
   "source": [
    "import exampledata"
   ]
  },
  {
   "cell_type": "code",
   "execution_count": null,
   "metadata": {},
   "outputs": [],
   "source": [
    "from svmodels import SV, hole_New\n",
    "from correlation_models import cvmodel"
   ]
  },
  {
   "cell_type": "code",
   "execution_count": null,
   "metadata": {},
   "outputs": [],
   "source": [
    "%load_ext autoreload\n",
    "%autoreload 2\n"
   ]
  },
  {
   "cell_type": "markdown",
   "metadata": {},
   "source": [
    "## Periodic Sine Curves with Noise\n",
    "\n",
    "sine_data() provides a sine curve with given period and amplitude, distorted with random noise (with given distribution). \n",
    "\n",
    "We get two dataframes - a complete one to plot the true population, and 25 random samples representing noisy measurements:"
   ]
  },
  {
   "cell_type": "code",
   "execution_count": null,
   "metadata": {},
   "outputs": [],
   "source": [
    "df_all = exampledata.sine_data()\n",
    "df_z = exampledata.sine_data(n_sample=25, noise_std = 1)\n",
    "\n",
    "plt.plot(df_z.x, df_z.measurement, '.', label='noisy sample', color = \"red\")\n",
    "plt.plot(df_all.x, df_all.truez, label=\"true value\")\n",
    "plt.errorbar(df_z.x, df_z.measurement, df_z.confidence95, fmt='.',\n",
    "             label='confidence intervall', color=\"grey\")\n",
    "\n",
    "plt.legend()\n",
    "plt.show()"
   ]
  },
  {
   "cell_type": "code",
   "execution_count": null,
   "metadata": {},
   "outputs": [],
   "source": [
    "df_z"
   ]
  },
  {
   "cell_type": "markdown",
   "metadata": {},
   "source": [
    "a number of parameters can be used to obtain different datasets, see below (here, the sample is taken afterwards for better code readability)."
   ]
  },
  {
   "cell_type": "code",
   "execution_count": null,
   "metadata": {
    "scrolled": false
   },
   "outputs": [],
   "source": [
    "df_all = exampledata.sine_data(start = 0,  stop = 800,  # intervall for predictor\n",
    "              resolution = 500,   # number of samples to create in interval\n",
    "              period = 500, amplitude = 10,  # shape of sine curve \n",
    "              noise_type=\"gaussian\",   # type of noise\n",
    "              noise_mean = 0,  # mean of noise\n",
    "              noise_std = 0.5)  # standard deviation of noise\n",
    "df_z = df_all.sample(50)\n",
    "\n",
    "plt.plot(df_z.x, df_z.measurement, '.', label='noisy sample', color = \"red\")\n",
    "plt.plot(df_all.x, df_all.truez, label=\"true value\")\n",
    "plt.errorbar(df_z.x, df_z.measurement, df_z.confidence95, fmt='.',\n",
    "             label='confidence intervall', color=\"grey\")\n",
    "\n",
    "df_z.to_excel(r\".\\example_data\\Periodic Sine\\example_5.xlsx\")\n",
    "\n",
    "plt.legend()\n",
    "plt.show()"
   ]
  },
  {
   "cell_type": "code",
   "execution_count": null,
   "metadata": {},
   "outputs": [],
   "source": [
    "df_z"
   ]
  },
  {
   "cell_type": "markdown",
   "metadata": {},
   "source": [
    "## Storing and Modifying Data\n",
    "\n",
    "The dataframe can be saved (see cell above), and later be loaded again.\n",
    "The following table ist a concanenated dataset for Example 2, with measurements of different confidence intervals."
   ]
  },
  {
   "cell_type": "code",
   "execution_count": null,
   "metadata": {},
   "outputs": [],
   "source": [
    "df_z = pd.read_excel(r\".\\example_data\\Periodic Sine\\example_2_modified.xlsx\")\n",
    "\n",
    "plt.plot(df_z.x, df_z.measurement, '.', label='noisy sample', color = \"red\")\n",
    "plt.plot(df_all.x, df_all.truez, label=\"true value\")\n",
    "plt.errorbar(df_z.x, df_z.measurement, df_z.confidence95, fmt='.',\n",
    "             label='confidence intervall', color=\"grey\")\n",
    "\n",
    "plt.legend()\n",
    "plt.show()"
   ]
  },
  {
   "cell_type": "code",
   "execution_count": null,
   "metadata": {},
   "outputs": [],
   "source": [
    "df_z"
   ]
  },
  {
   "cell_type": "code",
   "execution_count": null,
   "metadata": {},
   "outputs": [],
   "source": [
    "P = np.array(df_z.dropna()[['x','y','truez', 'noise']])\n",
    "P"
   ]
  },
  {
   "cell_type": "code",
   "execution_count": null,
   "metadata": {},
   "outputs": [],
   "source": [
    "\n",
    "from scipy.spatial.distance import squareform, pdist"
   ]
  },
  {
   "cell_type": "code",
   "execution_count": null,
   "metadata": {},
   "outputs": [],
   "source": [
    "# bandwidth, plus or minus bw meters\n",
    "bw = 25\n",
    "# lags in 25 days increments from zero to 2000\n",
    "hs = np.arange(0, 4000, bw)\n",
    "sv = SV( P, hs, bw )\n",
    "plt.plot( sv[0], sv[1], '.-' )\n",
    "#plt.errorbar(df_z.x, df_z.truez, df_z.noise, fmt='.',\n",
    "             #label='confidence intervall', color=\"grey\")\n",
    "plt.xlabel('Lag [m]')\n",
    "plt.ylabel('Semivariance')\n",
    "plt.title('Sample Semivariogram') ;\n",
    "#savefig('sample_semivariogram.png',fmt='png',dpi=200)"
   ]
  },
  {
   "cell_type": "code",
   "execution_count": null,
   "metadata": {},
   "outputs": [],
   "source": []
  },
  {
   "cell_type": "code",
   "execution_count": null,
   "metadata": {},
   "outputs": [],
   "source": [
    "varmodel = hole_New\n",
    "C0=100.0\n",
    "sp = cvmodel( P, model=varmodel, hs=np.arange(0,4000,25), bw=bw, Cn=0.0, svrange=250/(2*pi), C0=C0)\n",
    "#C0 = C( P, hs[0], bw )\n",
    "\n",
    "plt.plot( sv[0], sv[1], '.-' )\n",
    "plt.plot( sv[0], C0 - sp( sv[0] ) ) ;\n",
    "plt.title('Hole_N Model')\n",
    "plt.ylabel('Semivariance')\n",
    "plt.xlabel('Lag [m]')\n",
    "#savefig('semivariogram_model_hole_N_highamplitude2.png',fmt='png',dpi=300)"
   ]
  },
  {
   "cell_type": "code",
   "execution_count": null,
   "metadata": {},
   "outputs": [],
   "source": [
    "def krige( P, covfct, u, N ):\n",
    "    '''\n",
    "    Input  (P)     ndarray, data\n",
    "           (covfct) modeling function\n",
    "                    - spherical\n",
    "                    - exponential\n",
    "                    - gaussian\n",
    "           (u)     unsampled point\n",
    "           (N)     number of neighboring\n",
    "                   points to consider\n",
    "    '''\n",
    "\n",
    "    assert N < len(P) + 1, \"Number of Neighbors greater than number of data points\"\n",
    "\n",
    "    # mean of the variable\n",
    "    mu = np.mean( P[:,2] )\n",
    " \n",
    "    # distance between u and each data point in P\n",
    "    d = np.sqrt( ( P[:,0]-u[0] )**2.0 + ( P[:,1]-u[1] )**2.0 )\n",
    "    # add these distances to P\n",
    "    P = np.vstack(( P.T, d )).T\n",
    "    # sort P by these distances\n",
    "    # take the first N of them\n",
    "    P = P[d.argsort()[:N]]\n",
    " \n",
    "    # apply the covariance model to the distances\n",
    "    k = covfct( P[:,3] )\n",
    "    # cast as a matrix\n",
    "    k = np.matrix( k ).T\n",
    " \n",
    "    # form a matrix of distances between existing data points\n",
    "    K = squareform( pdist( P[:,:2] ) )\n",
    "    # apply the covariance model to these distances\n",
    "    K = covfct( K.ravel() )\n",
    "    # re-cast as a NumPy array -- thanks M.L.\n",
    "    K = np.array( K )\n",
    "    # reshape into an array\n",
    "    K = K.reshape(N,N)\n",
    "    # cast as a matrix\n",
    "    K = np.matrix( K )\n",
    "    K = np.identity(7)*0.2+K\n",
    " \n",
    "    # calculate the kriging weights\n",
    "    weights = np.linalg.inv( K ) * k\n",
    "    weights = np.array( weights )\n",
    " \n",
    "    # calculate the residuals\n",
    "    residuals = P[:,2] - mu\n",
    " \n",
    "    # calculate the estimation\n",
    "    estimation = np.dot( weights.T, residuals ) + mu\n",
    " \n",
    "    return (float( estimation ), k, K, weights)"
   ]
  },
  {
   "cell_type": "code",
   "execution_count": null,
   "metadata": {},
   "outputs": [],
   "source": [
    "# sampling intervall:\n",
    "X0, X1 = 0., 1000.\n",
    "\n",
    "# number of samples\n",
    "n = 600\n",
    "dx = (X1-X0)/n\n",
    "print(\"Sampling resolution: {:.2f} days\".format(dx))\n",
    "\n",
    "# number of neighbors:\n",
    "nn = 7\n",
    "u = (400, 0)  # (x,y) - coordinates of unsampled points\n"
   ]
  },
  {
   "cell_type": "code",
   "execution_count": null,
   "metadata": {},
   "outputs": [],
   "source": [
    "Z = np.zeros(n)\n",
    "V = np.zeros(n)\n",
    "for i in range(n):\n",
    "    h, k, K, weights = krige( P, sp, (dx*i, 0), nn )\n",
    "    Z[i] = h\n",
    "    v = C0 - np.dot(k.T, weights)\n",
    "    V[i] = max (v, 0)"
   ]
  },
  {
   "cell_type": "code",
   "execution_count": null,
   "metadata": {},
   "outputs": [],
   "source": [
    "plt.rcParams[\"figure.figsize\"] = (16, 12)\n",
    "plt.fill_between([i*dx for i in range(n)], Z-3*np.sqrt(V), Z+3*np.sqrt(V), color='green', alpha=0.1, label=\"+/- 3 stdev\")\n",
    "plt.fill_between([i*dx for i in range(n)], Z-2*np.sqrt(V), Z+2*np.sqrt(V), color='green', alpha=0.2, label=\"+/- 2 stdev\")\n",
    "plt.fill_between([i*dx for i in range(n)], Z-1*np.sqrt(V), Z+1*np.sqrt(V), color='green', alpha=0.3, label=\"+/- 1 stdev\")\n",
    "plt.plot([i*dx for i in range(n)], Z, \"g-\", label=\"estimator\")\n",
    "plt.plot(df_all.x, df_all.truez, label=\"true value\")\n",
    "\n",
    "plt.legend(loc='upper right')\n",
    "plt.ylabel('Water Level [m]')\n",
    "plt.xlabel('Time [d]')\n",
    "\n",
    "x1,x2,y1,y2 = plt.axis()\n",
    "\n",
    "plt.axis((x1,x2,-20, 20))\n",
    "#plt.savefig(\"result_hole_N_model_highAmplitude_SKwithtimeseries40nn.png\")\n",
    "plt.show()"
   ]
  },
  {
   "cell_type": "code",
   "execution_count": null,
   "metadata": {},
   "outputs": [],
   "source": []
  }
 ],
 "metadata": {
  "hide_input": false,
  "kernelspec": {
   "display_name": "Python 3",
   "language": "python",
   "name": "python3"
  },
  "language_info": {
   "codemirror_mode": {
    "name": "ipython",
    "version": 3
   },
   "file_extension": ".py",
   "mimetype": "text/x-python",
   "name": "python",
   "nbconvert_exporter": "python",
   "pygments_lexer": "ipython3",
   "version": "3.7.3"
  },
  "toc": {
   "nav_menu": {},
   "number_sections": true,
   "sideBar": true,
   "skip_h1_title": false,
   "toc_cell": false,
   "toc_position": {},
   "toc_section_display": "block",
   "toc_window_display": false
  },
  "varInspector": {
   "cols": {
    "lenName": 16,
    "lenType": 16,
    "lenVar": 40
   },
   "kernels_config": {
    "python": {
     "delete_cmd_postfix": "",
     "delete_cmd_prefix": "del ",
     "library": "var_list.py",
     "varRefreshCmd": "print(var_dic_list())"
    },
    "r": {
     "delete_cmd_postfix": ") ",
     "delete_cmd_prefix": "rm(",
     "library": "var_list.r",
     "varRefreshCmd": "cat(var_dic_list()) "
    }
   },
   "types_to_exclude": [
    "module",
    "function",
    "builtin_function_or_method",
    "instance",
    "_Feature"
   ],
   "window_display": true
  }
 },
 "nbformat": 4,
 "nbformat_minor": 2
}
